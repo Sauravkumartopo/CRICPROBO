{
 "cells": [
  {
   "cell_type": "code",
   "execution_count": 1,
   "id": "0d074874",
   "metadata": {},
   "outputs": [
    {
     "name": "stdout",
     "output_type": "stream",
     "text": [
      "Defaulting to user installation because normal site-packages is not writeable\n",
      "Requirement already satisfied: imbalanced-learn in c:\\users\\mtech\\appdata\\roaming\\python\\python311\\site-packages (0.11.0)\n",
      "Requirement already satisfied: numpy>=1.17.3 in c:\\programdata\\anaconda3\\lib\\site-packages (from imbalanced-learn) (1.24.3)\n",
      "Requirement already satisfied: scipy>=1.5.0 in c:\\programdata\\anaconda3\\lib\\site-packages (from imbalanced-learn) (1.10.1)\n",
      "Requirement already satisfied: scikit-learn>=1.0.2 in c:\\users\\mtech\\appdata\\roaming\\python\\python311\\site-packages (from imbalanced-learn) (1.3.2)\n",
      "Requirement already satisfied: joblib>=1.1.1 in c:\\programdata\\anaconda3\\lib\\site-packages (from imbalanced-learn) (1.2.0)\n",
      "Requirement already satisfied: threadpoolctl>=2.0.0 in c:\\programdata\\anaconda3\\lib\\site-packages (from imbalanced-learn) (2.2.0)\n"
     ]
    }
   ],
   "source": [
    "\n",
    "!pip install imbalanced-learn"
   ]
  },
  {
   "cell_type": "code",
   "execution_count": 2,
   "id": "85542ae9",
   "metadata": {},
   "outputs": [
    {
     "name": "stdout",
     "output_type": "stream",
     "text": [
      "Defaulting to user installation because normal site-packages is not writeable\n",
      "Requirement already satisfied: imbalanced-learn in c:\\users\\mtech\\appdata\\roaming\\python\\python311\\site-packages (0.11.0)\n",
      "Requirement already satisfied: numpy>=1.17.3 in c:\\programdata\\anaconda3\\lib\\site-packages (from imbalanced-learn) (1.24.3)\n",
      "Requirement already satisfied: scipy>=1.5.0 in c:\\programdata\\anaconda3\\lib\\site-packages (from imbalanced-learn) (1.10.1)\n",
      "Requirement already satisfied: scikit-learn>=1.0.2 in c:\\users\\mtech\\appdata\\roaming\\python\\python311\\site-packages (from imbalanced-learn) (1.3.2)\n",
      "Requirement already satisfied: joblib>=1.1.1 in c:\\programdata\\anaconda3\\lib\\site-packages (from imbalanced-learn) (1.2.0)\n",
      "Requirement already satisfied: threadpoolctl>=2.0.0 in c:\\programdata\\anaconda3\\lib\\site-packages (from imbalanced-learn) (2.2.0)\n",
      "Note: you may need to restart the kernel to use updated packages.\n"
     ]
    }
   ],
   "source": [
    "pip install imbalanced-learn"
   ]
  },
  {
   "cell_type": "code",
   "execution_count": 3,
   "id": "74ec2ba6",
   "metadata": {},
   "outputs": [],
   "source": [
    "import pandas as pd\n",
    "from sklearn.model_selection import train_test_split\n",
    "from imblearn.over_sampling import SMOTE\n"
   ]
  },
  {
   "cell_type": "code",
   "execution_count": 4,
   "id": "81aed91b",
   "metadata": {},
   "outputs": [],
   "source": [
    "df = pd.read_csv('matches.csv')"
   ]
  },
  {
   "cell_type": "code",
   "execution_count": 5,
   "id": "722d25b3",
   "metadata": {},
   "outputs": [],
   "source": [
    "target_variable = 'dl_applied'\n",
    "features = df.drop(columns=[target_variable])"
   ]
  },
  {
   "cell_type": "code",
   "execution_count": 6,
   "id": "8189fc77",
   "metadata": {},
   "outputs": [],
   "source": [
    "categorical_columns = features.select_dtypes(include=['object']).columns\n",
    "features[categorical_columns] = features[categorical_columns].astype('category')\n"
   ]
  },
  {
   "cell_type": "code",
   "execution_count": 7,
   "id": "711a1fb2",
   "metadata": {},
   "outputs": [],
   "source": [
    "features_encoded = pd.get_dummies(features, columns=categorical_columns, drop_first=True)\n"
   ]
  },
  {
   "cell_type": "code",
   "execution_count": 8,
   "id": "9ec30b2c",
   "metadata": {},
   "outputs": [],
   "source": [
    "X = features_encoded\n",
    "y = df[target_variable]\n",
    "X_train, X_test, y_train, y_test = train_test_split(X, y, test_size=0.2, random_state=42)"
   ]
  },
  {
   "cell_type": "code",
   "execution_count": 9,
   "id": "e46d4dc5",
   "metadata": {},
   "outputs": [
    {
     "name": "stdout",
     "output_type": "stream",
     "text": [
      "int64\n"
     ]
    }
   ],
   "source": [
    "print(y_train.dtypes)\n"
   ]
  },
  {
   "cell_type": "code",
   "execution_count": 10,
   "id": "e38e3841",
   "metadata": {},
   "outputs": [],
   "source": [
    "y_train = y_train.astype(str)\n"
   ]
  },
  {
   "cell_type": "code",
   "execution_count": 11,
   "id": "4b6eb730",
   "metadata": {},
   "outputs": [
    {
     "name": "stdout",
     "output_type": "stream",
     "text": [
      "0\n"
     ]
    }
   ],
   "source": [
    "print(y_train.isnull().sum())\n"
   ]
  },
  {
   "cell_type": "code",
   "execution_count": 12,
   "id": "3082f12e",
   "metadata": {},
   "outputs": [
    {
     "name": "stdout",
     "output_type": "stream",
     "text": [
      "Number of samples: 604\n"
     ]
    }
   ],
   "source": [
    "num_samples = X_train.shape[0]\n",
    "print(\"Number of samples:\", num_samples)\n"
   ]
  },
  {
   "cell_type": "code",
   "execution_count": 13,
   "id": "3d01fc57",
   "metadata": {},
   "outputs": [
    {
     "name": "stdout",
     "output_type": "stream",
     "text": [
      "Number of samples in X_train: 604\n"
     ]
    }
   ],
   "source": [
    "num_samples = X_train.shape[0]\n",
    "print(f\"Number of samples in X_train: {num_samples}\")\n"
   ]
  },
  {
   "cell_type": "code",
   "execution_count": 15,
   "id": "baf100a1",
   "metadata": {},
   "outputs": [],
   "source": [
    "num_samples = X_train.shape[0]\n",
    "k_neighbors = num_samples\n"
   ]
  },
  {
   "cell_type": "code",
   "execution_count": 19,
   "id": "697a5f43",
   "metadata": {},
   "outputs": [
    {
     "name": "stdout",
     "output_type": "stream",
     "text": [
      "Number of neighbors for SMOTE: 604\n"
     ]
    }
   ],
   "source": [
    "# Assuming you have set the k_neighbors parameter\n",
    "print(f\"Number of neighbors for SMOTE: {k_neighbors}\")\n"
   ]
  },
  {
   "cell_type": "code",
   "execution_count": 21,
   "id": "be2cc7ff",
   "metadata": {},
   "outputs": [
    {
     "name": "stdout",
     "output_type": "stream",
     "text": [
      "Number of samples in X_train: 604\n",
      "Number of neighbors for SMOTE: 604\n"
     ]
    }
   ],
   "source": [
    "print(f\"Number of samples in X_train: {num_samples}\")\n",
    "print(f\"Number of neighbors for SMOTE: {k_neighbors}\")\n",
    "\n",
    "# Create and apply SMOTE\n",
    "smote = SMOTE(random_state=42, k_neighbors=3)\n",
    "X_resampled, y_resampled = smote.fit_resample(X_train, y_train)"
   ]
  },
  {
   "cell_type": "code",
   "execution_count": 22,
   "id": "b701e275",
   "metadata": {},
   "outputs": [
    {
     "name": "stdout",
     "output_type": "stream",
     "text": [
      "X_train:\n",
      "      id  win_by_runs  win_by_wickets  Season_IPL-2009  Season_IPL-2010  \\\n",
      "212  213           14               0                0                1   \n",
      "69    70            0               7                0                0   \n",
      "329  330            0               8                0                0   \n",
      "131  132           92               0                1                0   \n",
      "44    45            0               6                0                0   \n",
      "\n",
      "     Season_IPL-2011  Season_IPL-2012  Season_IPL-2013  Season_IPL-2014  \\\n",
      "212                0                0                0                0   \n",
      "69                 0                0                0                0   \n",
      "329                0                1                0                0   \n",
      "131                0                0                0                0   \n",
      "44                 0                0                0                0   \n",
      "\n",
      "     Season_IPL-2015  ...  umpire3_Nigel Llong  umpire3_Nitin Menon  \\\n",
      "212                0  ...                    0                    0   \n",
      "69                 0  ...                    0                    0   \n",
      "329                0  ...                    0                    0   \n",
      "131                0  ...                    0                    0   \n",
      "44                 0  ...                    0                    0   \n",
      "\n",
      "     umpire3_O Nandan  umpire3_Rod Tucker  umpire3_S Ravi  \\\n",
      "212                 0                   0               0   \n",
      "69                  0                   0               0   \n",
      "329                 0                   0               0   \n",
      "131                 0                   0               0   \n",
      "44                  0                   0               0   \n",
      "\n",
      "     umpire3_Sundaram Ravi  umpire3_Ulhas Gandhe  umpire3_Vineet Kulkarni  \\\n",
      "212                      0                     0                        0   \n",
      "69                       0                     0                        0   \n",
      "329                      0                     0                        0   \n",
      "131                      0                     0                        0   \n",
      "44                       0                     0                        0   \n",
      "\n",
      "     umpire3_Virender Kumar Sharma  umpire3_Yeshwant Barde  \n",
      "212                              0                       0  \n",
      "69                               0                       0  \n",
      "329                              0                       0  \n",
      "131                              0                       0  \n",
      "44                               0                       0  \n",
      "\n",
      "[5 rows x 1062 columns]\n",
      "\n",
      "y_train:\n",
      "212    0\n",
      "69     0\n",
      "329    0\n",
      "131    0\n",
      "44     0\n",
      "Name: dl_applied, dtype: object\n"
     ]
    }
   ],
   "source": [
    "print(\"X_train:\")\n",
    "print(X_train.head())\n",
    "\n",
    "print(\"\\ny_train:\")\n",
    "print(y_train.head())\n"
   ]
  },
  {
   "cell_type": "code",
   "execution_count": 23,
   "id": "0d1e6c84",
   "metadata": {},
   "outputs": [
    {
     "name": "stdout",
     "output_type": "stream",
     "text": [
      "Class distribution in y_train:\n",
      "0    589\n",
      "1     15\n",
      "Name: dl_applied, dtype: int64\n"
     ]
    }
   ],
   "source": [
    "print(\"Class distribution in y_train:\")\n",
    "print(y_train.value_counts())\n"
   ]
  },
  {
   "cell_type": "code",
   "execution_count": 24,
   "id": "9dd35846",
   "metadata": {},
   "outputs": [
    {
     "name": "stdout",
     "output_type": "stream",
     "text": [
      "Class distribution in y_train before SMOTE:\n",
      "0    589\n",
      "1     15\n",
      "Name: dl_applied, dtype: int64\n",
      "Class distribution in y_resampled after SMOTE:\n",
      "0    589\n",
      "1    589\n",
      "Name: dl_applied, dtype: int64\n"
     ]
    }
   ],
   "source": [
    "# Before applying SMOTE\n",
    "print(\"Class distribution in y_train before SMOTE:\")\n",
    "print(y_train.value_counts())\n",
    "\n",
    "# After applying SMOTE\n",
    "print(\"Class distribution in y_resampled after SMOTE:\")\n",
    "print(y_resampled.value_counts())\n"
   ]
  },
  {
   "cell_type": "code",
   "execution_count": null,
   "id": "d747a84b",
   "metadata": {},
   "outputs": [],
   "source": []
  }
 ],
 "metadata": {
  "kernelspec": {
   "display_name": "Python 3 (ipykernel)",
   "language": "python",
   "name": "python3"
  },
  "language_info": {
   "codemirror_mode": {
    "name": "ipython",
    "version": 3
   },
   "file_extension": ".py",
   "mimetype": "text/x-python",
   "name": "python",
   "nbconvert_exporter": "python",
   "pygments_lexer": "ipython3",
   "version": "3.11.4"
  }
 },
 "nbformat": 4,
 "nbformat_minor": 5
}

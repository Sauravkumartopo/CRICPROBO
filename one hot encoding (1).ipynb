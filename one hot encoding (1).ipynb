{
 "cells": [
  {
   "cell_type": "code",
   "execution_count": 11,
   "id": "9e634590",
   "metadata": {},
   "outputs": [],
   "source": [
    "import pandas as pd\n",
    "import numpy as np\n",
    "from sklearn.preprocessing import OneHotEncoder \n",
    "  "
   ]
  },
  {
   "cell_type": "code",
   "execution_count": 12,
   "id": "a9dd9760",
   "metadata": {},
   "outputs": [],
   "source": [
    "data = pd.read_csv(\"matches.csv\")"
   ]
  },
  {
   "cell_type": "code",
   "execution_count": 13,
   "id": "42692f8c",
   "metadata": {},
   "outputs": [
    {
     "name": "stdout",
     "output_type": "stream",
     "text": [
      "   id    Season       city        date                        team1  \\\n",
      "0   1  IPL-2017  Hyderabad  05-04-2017          Sunrisers Hyderabad   \n",
      "1   2  IPL-2017       Pune  06-04-2017               Mumbai Indians   \n",
      "2   3  IPL-2017     Rajkot  07-04-2017                Gujarat Lions   \n",
      "3   4  IPL-2017     Indore  08-04-2017       Rising Pune Supergiant   \n",
      "4   5  IPL-2017  Bangalore  08-04-2017  Royal Challengers Bangalore   \n",
      "\n",
      "                         team2                  toss_winner toss_decision  \\\n",
      "0  Royal Challengers Bangalore  Royal Challengers Bangalore         field   \n",
      "1       Rising Pune Supergiant       Rising Pune Supergiant         field   \n",
      "2        Kolkata Knight Riders        Kolkata Knight Riders         field   \n",
      "3              Kings XI Punjab              Kings XI Punjab         field   \n",
      "4             Delhi Daredevils  Royal Challengers Bangalore           bat   \n",
      "\n",
      "   result  dl_applied                       winner  win_by_runs  \\\n",
      "0  normal           0          Sunrisers Hyderabad           35   \n",
      "1  normal           0       Rising Pune Supergiant            0   \n",
      "2  normal           0        Kolkata Knight Riders            0   \n",
      "3  normal           0              Kings XI Punjab            0   \n",
      "4  normal           0  Royal Challengers Bangalore           15   \n",
      "\n",
      "   win_by_wickets player_of_match                                      venue  \\\n",
      "0               0    Yuvraj Singh  Rajiv Gandhi International Stadium, Uppal   \n",
      "1               7       SPD Smith    Maharashtra Cricket Association Stadium   \n",
      "2              10         CA Lynn     Saurashtra Cricket Association Stadium   \n",
      "3               6      GJ Maxwell                     Holkar Cricket Stadium   \n",
      "4               0       KM Jadhav                      M Chinnaswamy Stadium   \n",
      "\n",
      "          umpire1        umpire2 umpire3  \n",
      "0     AY Dandekar       NJ Llong     NaN  \n",
      "1  A Nand Kishore         S Ravi     NaN  \n",
      "2     Nitin Menon      CK Nandan     NaN  \n",
      "3    AK Chaudhary  C Shamshuddin     NaN  \n",
      "4             NaN            NaN     NaN  \n"
     ]
    }
   ],
   "source": [
    "print(data.head())"
   ]
  },
  {
   "cell_type": "code",
   "execution_count": 29,
   "id": "07a2b45f",
   "metadata": {},
   "outputs": [
    {
     "data": {
      "text/plain": [
       "(756, 21)"
      ]
     },
     "execution_count": 29,
     "metadata": {},
     "output_type": "execute_result"
    }
   ],
   "source": [
    "data.describe()\n",
    "(data).shape"
   ]
  },
  {
   "cell_type": "code",
   "execution_count": 20,
   "id": "7b25177e",
   "metadata": {},
   "outputs": [],
   "source": [
    "#coverting type of columns into categorical type\n",
    "data['city'] = data['city'].astype('category')\n",
    "data['team1'] = data['team1'].astype('category')\n"
   ]
  },
  {
   "cell_type": "code",
   "execution_count": 21,
   "id": "769fe1c0",
   "metadata": {},
   "outputs": [],
   "source": [
    "#ASSIGNING NUMERICAL VALUES \n",
    "data['city_new'] = data['city'].cat.codes\n",
    "data['team1_new'] = data['team1'].cat.codes"
   ]
  },
  {
   "cell_type": "code",
   "execution_count": 22,
   "id": "f96ca561",
   "metadata": {},
   "outputs": [],
   "source": [
    "#create an instance of one hot encoder\n",
    "enc = OneHotEncoder()"
   ]
  },
  {
   "cell_type": "code",
   "execution_count": 26,
   "id": "ae56b0d5",
   "metadata": {},
   "outputs": [],
   "source": [
    "#passing encoded columns\n",
    "enc_data = pd.DataFrame(enc.fit_transform(data[['city_new','team1_new']]).toarray())"
   ]
  },
  {
   "cell_type": "code",
   "execution_count": 27,
   "id": "c51da78b",
   "metadata": {},
   "outputs": [],
   "source": [
    "#merge with main\n",
    "New_df = data.join(enc_data)"
   ]
  },
  {
   "cell_type": "code",
   "execution_count": 28,
   "id": "4172f624",
   "metadata": {},
   "outputs": [
    {
     "name": "stdout",
     "output_type": "stream",
     "text": [
      "        id    Season           city        date                        team1  \\\n",
      "0        1  IPL-2017      Hyderabad  05-04-2017          Sunrisers Hyderabad   \n",
      "1        2  IPL-2017           Pune  06-04-2017               Mumbai Indians   \n",
      "2        3  IPL-2017         Rajkot  07-04-2017                Gujarat Lions   \n",
      "3        4  IPL-2017         Indore  08-04-2017       Rising Pune Supergiant   \n",
      "4        5  IPL-2017      Bangalore  08-04-2017  Royal Challengers Bangalore   \n",
      "..     ...       ...            ...         ...                          ...   \n",
      "751  11347  IPL-2019         Mumbai  05-05-2019        Kolkata Knight Riders   \n",
      "752  11412  IPL-2019        Chennai  07-05-2019          Chennai Super Kings   \n",
      "753  11413  IPL-2019  Visakhapatnam  08-05-2019          Sunrisers Hyderabad   \n",
      "754  11414  IPL-2019  Visakhapatnam  10-05-2019               Delhi Capitals   \n",
      "755  11415  IPL-2019      Hyderabad  12-05-2019               Mumbai Indians   \n",
      "\n",
      "                           team2                  toss_winner toss_decision  \\\n",
      "0    Royal Challengers Bangalore  Royal Challengers Bangalore         field   \n",
      "1         Rising Pune Supergiant       Rising Pune Supergiant         field   \n",
      "2          Kolkata Knight Riders        Kolkata Knight Riders         field   \n",
      "3                Kings XI Punjab              Kings XI Punjab         field   \n",
      "4               Delhi Daredevils  Royal Challengers Bangalore           bat   \n",
      "..                           ...                          ...           ...   \n",
      "751               Mumbai Indians               Mumbai Indians         field   \n",
      "752               Mumbai Indians          Chennai Super Kings           bat   \n",
      "753               Delhi Capitals               Delhi Capitals         field   \n",
      "754          Chennai Super Kings          Chennai Super Kings         field   \n",
      "755          Chennai Super Kings               Mumbai Indians           bat   \n",
      "\n",
      "     result dl_applied  ...   38   39   40   41   42   43   44   45   46   47  \n",
      "0    normal          0  ...  0.0  0.0  0.0  0.0  0.0  0.0  0.0  0.0  0.0  1.0  \n",
      "1    normal          0  ...  0.0  0.0  0.0  1.0  0.0  0.0  0.0  0.0  0.0  0.0  \n",
      "2    normal          0  ...  0.0  0.0  0.0  0.0  0.0  0.0  0.0  0.0  0.0  0.0  \n",
      "3    normal          0  ...  0.0  0.0  0.0  0.0  0.0  0.0  1.0  0.0  0.0  0.0  \n",
      "4    normal          0  ...  0.0  0.0  0.0  0.0  0.0  0.0  0.0  0.0  1.0  0.0  \n",
      "..      ...        ...  ...  ...  ...  ...  ...  ...  ...  ...  ...  ...  ...  \n",
      "751  normal          0  ...  0.0  0.0  1.0  0.0  0.0  0.0  0.0  0.0  0.0  0.0  \n",
      "752  normal          0  ...  0.0  0.0  0.0  0.0  0.0  0.0  0.0  0.0  0.0  0.0  \n",
      "753  normal          0  ...  0.0  0.0  0.0  0.0  0.0  0.0  0.0  0.0  0.0  1.0  \n",
      "754  normal          0  ...  0.0  0.0  0.0  0.0  0.0  0.0  0.0  0.0  0.0  0.0  \n",
      "755  normal          0  ...  0.0  0.0  0.0  1.0  0.0  0.0  0.0  0.0  0.0  0.0  \n",
      "\n",
      "[756 rows x 69 columns]\n"
     ]
    }
   ],
   "source": [
    "print(New_df)"
   ]
  },
  {
   "cell_type": "code",
   "execution_count": null,
   "id": "56a5b9de",
   "metadata": {},
   "outputs": [],
   "source": []
  },
  {
   "cell_type": "code",
   "execution_count": null,
   "id": "28c9aad5",
   "metadata": {},
   "outputs": [],
   "source": []
  },
  {
   "cell_type": "code",
   "execution_count": null,
   "id": "9e0c60c8",
   "metadata": {},
   "outputs": [],
   "source": []
  }
 ],
 "metadata": {
  "kernelspec": {
   "display_name": "Python 3 (ipykernel)",
   "language": "python",
   "name": "python3"
  },
  "language_info": {
   "codemirror_mode": {
    "name": "ipython",
    "version": 3
   },
   "file_extension": ".py",
   "mimetype": "text/x-python",
   "name": "python",
   "nbconvert_exporter": "python",
   "pygments_lexer": "ipython3",
   "version": "3.11.4"
  }
 },
 "nbformat": 4,
 "nbformat_minor": 5
}
